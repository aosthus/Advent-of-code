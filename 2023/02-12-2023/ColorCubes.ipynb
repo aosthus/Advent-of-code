{
 "cells": [
  {
   "cell_type": "code",
   "execution_count": 1,
   "id": "ecf389ba-7e24-482a-9153-070bcb79dc46",
   "metadata": {
    "tags": []
   },
   "outputs": [],
   "source": [
    "raw_data = open(\"./data.txt\",\"r\") \n",
    "splitted_text = raw_data.read().split('\\n')\n",
    "raw_data.close()"
   ]
  },
  {
   "cell_type": "code",
   "execution_count": 89,
   "id": "142e8344-d289-4e15-a728-054284d7f755",
   "metadata": {
    "tags": []
   },
   "outputs": [],
   "source": [
    "max_cubes = {\n",
    "    'red' : 12,\n",
    "    'green' : 13,\n",
    "    'blue' : 14,\n",
    "}"
   ]
  },
  {
   "cell_type": "code",
   "execution_count": 106,
   "id": "d7d0f7d0-cd72-493e-bc71-d9604976f7b5",
   "metadata": {
    "tags": []
   },
   "outputs": [],
   "source": [
    "round_nrs = list(range(100))\n",
    "\n",
    "for game_nr in range(len(splitted_text)):\n",
    "    game = splitted_text[game_nr].split(':')[1].split(';')\n",
    "    for set_nr in range(len(game)):\n",
    "        game_set = game[set_nr].split(',')\n",
    "        for hint_nr in range(len(game_set)):\n",
    "            hint = game_set[hint_nr].strip(' ').split(' ')\n",
    "            hint_color = hint[-1]\n",
    "            hint_value = int(hint[0])\n",
    "            for color in max_cubes.keys():\n",
    "                if color == hint_color:\n",
    "                    if hint_value > max_cubes[color]:\n",
    "                        if game_nr in round_nrs:\n",
    "                            round_nrs.remove(game_nr)"
   ]
  },
  {
   "cell_type": "code",
   "execution_count": 111,
   "id": "642a8e65-8f88-4cf2-bbdf-e623f4a7921f",
   "metadata": {
    "tags": []
   },
   "outputs": [
    {
     "data": {
      "text/plain": [
       "2076"
      ]
     },
     "execution_count": 111,
     "metadata": {},
     "output_type": "execute_result"
    }
   ],
   "source": [
    "game_values = [x+1 for x in round_nrs]\n",
    "sum(game_values)"
   ]
  },
  {
   "cell_type": "code",
   "execution_count": 112,
   "id": "cd4c98e7-6767-4314-abe3-455d939fb8ee",
   "metadata": {
    "tags": []
   },
   "outputs": [],
   "source": [
    "power_of_games = []\n",
    "\n",
    "for game_nr in range(len(splitted_text)):\n",
    "    max_cubes = {\n",
    "        'red' : 1,\n",
    "        'green' : 1,\n",
    "        'blue' : 1,\n",
    "    }\n",
    "    game = splitted_text[game_nr].split(':')[1].split(';')\n",
    "    for set_nr in range(len(game)):\n",
    "        game_set = game[set_nr].split(',')\n",
    "        for hint_nr in range(len(game_set)):\n",
    "            hint = game_set[hint_nr].strip(' ').split(' ')\n",
    "            hint_color = hint[-1]\n",
    "            hint_value = int(hint[0])\n",
    "            for color in max_cubes.keys():\n",
    "                if color == hint_color:\n",
    "                    if hint_value > max_cubes[color]:\n",
    "                        max_cubes[color] = hint_value\n",
    "    power_of_game = 1\n",
    "    for power_of_color in max_cubes.keys():\n",
    "        power_of_game *= max_cubes[power_of_color]\n",
    "    power_of_games.append(power_of_game)"
   ]
  },
  {
   "cell_type": "code",
   "execution_count": 113,
   "id": "49784d0e-ca76-415e-8b43-c1b82c5c32e9",
   "metadata": {
    "tags": []
   },
   "outputs": [
    {
     "data": {
      "text/plain": [
       "70950"
      ]
     },
     "execution_count": 113,
     "metadata": {},
     "output_type": "execute_result"
    }
   ],
   "source": [
    "sum(power_of_games)"
   ]
  },
  {
   "cell_type": "code",
   "execution_count": null,
   "id": "21d80f6a-3094-4ade-9acc-b50e96bba07e",
   "metadata": {},
   "outputs": [],
   "source": []
  }
 ],
 "metadata": {
  "kernelspec": {
   "display_name": "Python 3 (ipykernel)",
   "language": "python",
   "name": "python3"
  },
  "language_info": {
   "codemirror_mode": {
    "name": "ipython",
    "version": 3
   },
   "file_extension": ".py",
   "mimetype": "text/x-python",
   "name": "python",
   "nbconvert_exporter": "python",
   "pygments_lexer": "ipython3",
   "version": "3.10.9"
  }
 },
 "nbformat": 4,
 "nbformat_minor": 5
}
