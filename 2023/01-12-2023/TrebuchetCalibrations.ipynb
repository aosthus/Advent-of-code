{
 "cells": [
  {
   "cell_type": "code",
   "execution_count": 1,
   "id": "a7ab55cb-7af1-43e7-9a53-415d4f45d7d8",
   "metadata": {
    "tags": []
   },
   "outputs": [],
   "source": [
    "raw_data = open(\"./data.txt\",\"r\") \n",
    "splitted_text = raw_data.read().split('\\n')\n",
    "raw_data.close()"
   ]
  },
  {
   "cell_type": "code",
   "execution_count": 2,
   "id": "10c38320-4c71-4b81-a53d-bdb9876b5f80",
   "metadata": {
    "tags": []
   },
   "outputs": [],
   "source": [
    "calibrations = list()\n",
    "\n",
    "for line in splitted_text:\n",
    "    calibration_line = []\n",
    "    for character in line:\n",
    "        if character.isdigit():\n",
    "            calibration_line.append(character)\n",
    "    calibrations.append(calibration_line)\n",
    "    \n",
    "calibrationsum = 0    \n",
    "for line in calibrations:\n",
    "    linesum = line[0] + line[-1]\n",
    "    calibrationsum += int(linesum)"
   ]
  },
  {
   "cell_type": "code",
   "execution_count": 3,
   "id": "7a055260-56a6-4d4f-b04e-2b9139cff195",
   "metadata": {
    "tags": []
   },
   "outputs": [
    {
     "data": {
      "text/plain": [
       "54632"
      ]
     },
     "execution_count": 3,
     "metadata": {},
     "output_type": "execute_result"
    }
   ],
   "source": [
    "calibrationsum"
   ]
  },
  {
   "cell_type": "code",
   "execution_count": 4,
   "id": "80990d3c-7616-4616-85bd-cc94bbca8b78",
   "metadata": {
    "tags": []
   },
   "outputs": [],
   "source": [
    "numbers_from_characters = {\n",
    "    'one' : '1',\n",
    "    'two' : '2',\n",
    "    'three' : '3',\n",
    "    'four' : '4',\n",
    "    'five' : '5', \n",
    "    'six' : '6', \n",
    "    'seven' : '7', \n",
    "    'eight' : '8', \n",
    "    'nine' : '9'\n",
    "}"
   ]
  },
  {
   "cell_type": "code",
   "execution_count": 5,
   "id": "99f0afb9-226d-47b1-94ae-64156f54e2b3",
   "metadata": {
    "tags": []
   },
   "outputs": [],
   "source": [
    "calibrations_with_letters = list()\n",
    "\n",
    "for line in splitted_text:\n",
    "    calibration_line = []\n",
    "\n",
    "    found = False\n",
    "    i = 0\n",
    "    while not found:\n",
    "        for charnum in numbers_from_characters.keys():\n",
    "            if line[:i].find(charnum) != -1:\n",
    "                line = line.replace(charnum, numbers_from_characters[charnum] + charnum)\n",
    "                found = True\n",
    "        i += 1\n",
    "        if i == len(line):\n",
    "            found = True\n",
    "        \n",
    "    found = False\n",
    "    i = 0\n",
    "    while not found:\n",
    "        for charnum in numbers_from_characters.keys():\n",
    "            if line[len(line)-i:].find(charnum) != -1:\n",
    "                line = line.replace(charnum, charnum + numbers_from_characters[charnum])\n",
    "                found = True\n",
    "        i += 1\n",
    "        if i == len(line):\n",
    "            found = True\n",
    "   \n",
    "    for character in line:\n",
    "        if character.isdigit():\n",
    "            calibration_line.append(character)\n",
    "\n",
    "    calibrations_with_letters.append(calibration_line)\n",
    "    \n",
    "calibrationsum = 0    \n",
    "for line in calibrations_with_letters:\n",
    "    linesum = line[0] + line[-1]\n",
    "    calibrationsum += int(linesum)"
   ]
  },
  {
   "cell_type": "code",
   "execution_count": 6,
   "id": "26d77108-35a8-4ee4-9489-c700a9e79bdb",
   "metadata": {
    "tags": []
   },
   "outputs": [
    {
     "data": {
      "text/plain": [
       "54019"
      ]
     },
     "execution_count": 6,
     "metadata": {},
     "output_type": "execute_result"
    }
   ],
   "source": [
    "calibrationsum"
   ]
  }
 ],
 "metadata": {
  "kernelspec": {
   "display_name": "Python 3 (ipykernel)",
   "language": "python",
   "name": "python3"
  },
  "language_info": {
   "codemirror_mode": {
    "name": "ipython",
    "version": 3
   },
   "file_extension": ".py",
   "mimetype": "text/x-python",
   "name": "python",
   "nbconvert_exporter": "python",
   "pygments_lexer": "ipython3",
   "version": "3.10.9"
  }
 },
 "nbformat": 4,
 "nbformat_minor": 5
}
