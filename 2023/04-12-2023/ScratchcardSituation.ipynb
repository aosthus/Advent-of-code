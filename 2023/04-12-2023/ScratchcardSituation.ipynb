{
 "cells": [
  {
   "cell_type": "code",
   "execution_count": 57,
   "id": "506fdb5b-591f-4322-bf7c-668594ca2f04",
   "metadata": {
    "tags": []
   },
   "outputs": [],
   "source": [
    "raw_data = open(\"./data.txt\",\"r\") \n",
    "splitted_text = raw_data.read().split('\\n')\n",
    "raw_data.close()"
   ]
  },
  {
   "cell_type": "code",
   "execution_count": 59,
   "id": "842795f6-1d06-4dda-aeb4-7408e662dfef",
   "metadata": {
    "tags": []
   },
   "outputs": [],
   "source": [
    "winning_numbers = []\n",
    "chosen_numbers = []\n",
    "for line in splitted_text:\n",
    "    line = line[10:]\n",
    "    line = line.split('|')\n",
    "    individual_winning_numbers = line[0].split(' ')\n",
    "    winning_numbers_set = set()\n",
    "    for number in individual_winning_numbers:\n",
    "        if number.isnumeric():\n",
    "            winning_numbers_set.add(int(number))\n",
    "    winning_numbers.append(winning_numbers_set)\n",
    "    individual_chosen_numbers = line[1].split(' ')\n",
    "    chosen_numbers_set = set()\n",
    "    for number in individual_chosen_numbers:\n",
    "        if number.isnumeric():\n",
    "            chosen_numbers_set.add(int(number))\n",
    "    chosen_numbers.append(chosen_numbers_set)"
   ]
  },
  {
   "cell_type": "code",
   "execution_count": 78,
   "id": "71f5bc23-1f1b-4364-9c15-c6ed0e0b9ebb",
   "metadata": {
    "tags": []
   },
   "outputs": [
    {
     "data": {
      "text/plain": [
       "24542"
      ]
     },
     "execution_count": 78,
     "metadata": {},
     "output_type": "execute_result"
    }
   ],
   "source": [
    "points = 0\n",
    "for card in range(len(chosen_numbers)):\n",
    "    wins = len(chosen_numbers[card].intersection(winning_numbers[card]))\n",
    "    if wins != 0:\n",
    "        points += 2**(wins-1)\n",
    "points"
   ]
  },
  {
   "cell_type": "code",
   "execution_count": 178,
   "id": "1ebfc352-fde7-456a-996c-ef460b960dfd",
   "metadata": {
    "tags": []
   },
   "outputs": [
    {
     "data": {
      "text/plain": [
       "8736438"
      ]
     },
     "execution_count": 178,
     "metadata": {},
     "output_type": "execute_result"
    }
   ],
   "source": [
    "number_of_cards = dict()\n",
    "for card in range(len(chosen_numbers)):\n",
    "    number_of_cards[card] = 1\n",
    "    \n",
    "for rep in number_of_cards.keys():\n",
    "    for card in range(number_of_cards[rep]):\n",
    "        wins = len(chosen_numbers[rep].intersection(winning_numbers[rep]))\n",
    "        for dupe in range(wins):\n",
    "            number_of_cards[rep+dupe+1] += 1\n",
    "        \n",
    "sum(number_of_cards.values())"
   ]
  },
  {
   "cell_type": "code",
   "execution_count": null,
   "id": "8d53db46-def2-42e0-8686-d2e057110062",
   "metadata": {},
   "outputs": [],
   "source": []
  }
 ],
 "metadata": {
  "kernelspec": {
   "display_name": "Python 3 (ipykernel)",
   "language": "python",
   "name": "python3"
  },
  "language_info": {
   "codemirror_mode": {
    "name": "ipython",
    "version": 3
   },
   "file_extension": ".py",
   "mimetype": "text/x-python",
   "name": "python",
   "nbconvert_exporter": "python",
   "pygments_lexer": "ipython3",
   "version": "3.10.9"
  }
 },
 "nbformat": 4,
 "nbformat_minor": 5
}
