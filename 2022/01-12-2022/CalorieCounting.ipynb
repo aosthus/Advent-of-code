{
 "cells": [
  {
   "cell_type": "code",
   "execution_count": 77,
   "id": "d181bd13-c247-459c-bcda-bf799a0d2085",
   "metadata": {},
   "outputs": [],
   "source": [
    "raw_data = open(\"./data.txt\",\"r\") \n",
    "splitted_text = raw_data.read().split('\\n\\n')\n",
    "raw_data.close()"
   ]
  },
  {
   "cell_type": "code",
   "execution_count": 78,
   "id": "5a30aecc-d54e-4ee7-af58-1fd6cf891459",
   "metadata": {},
   "outputs": [],
   "source": [
    "calorie_elfs = list()\n",
    "\n",
    "for line in splitted_text:\n",
    "    calorie_item = 0\n",
    "    for item in line.split('\\n'):\n",
    "        calorie_item += int(item)\n",
    "    calorie_elfs.append(calorie_item)"
   ]
  },
  {
   "cell_type": "code",
   "execution_count": 79,
   "id": "1e555ecd-93bb-401b-9499-08c2be80139a",
   "metadata": {},
   "outputs": [
    {
     "data": {
      "text/plain": [
       "70698"
      ]
     },
     "execution_count": 79,
     "metadata": {},
     "output_type": "execute_result"
    }
   ],
   "source": [
    "max(calorie_elfs)"
   ]
  },
  {
   "cell_type": "code",
   "execution_count": 80,
   "id": "abf2ddf3-eedb-4724-ba75-9d4c0114f243",
   "metadata": {},
   "outputs": [],
   "source": [
    "ordered_sums = sorted(calorie_elfs, reverse=True)"
   ]
  },
  {
   "cell_type": "code",
   "execution_count": 81,
   "id": "b649a86c-6860-4665-8695-3978b5698dc9",
   "metadata": {},
   "outputs": [
    {
     "data": {
      "text/plain": [
       "206643"
      ]
     },
     "execution_count": 81,
     "metadata": {},
     "output_type": "execute_result"
    }
   ],
   "source": [
    "sum(ordered_sums[0:3])"
   ]
  }
 ],
 "metadata": {
  "kernelspec": {
   "display_name": "Python 3 (ipykernel)",
   "language": "python",
   "name": "python3"
  },
  "language_info": {
   "codemirror_mode": {
    "name": "ipython",
    "version": 3
   },
   "file_extension": ".py",
   "mimetype": "text/x-python",
   "name": "python",
   "nbconvert_exporter": "python",
   "pygments_lexer": "ipython3",
   "version": "3.10.6"
  }
 },
 "nbformat": 4,
 "nbformat_minor": 5
}
