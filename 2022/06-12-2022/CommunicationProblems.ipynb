{
 "cells": [
  {
   "cell_type": "code",
   "execution_count": 1,
   "id": "d489a00e-b06b-4ed8-a5f5-42f2feaac386",
   "metadata": {},
   "outputs": [],
   "source": [
    "raw_data = open(\"./data.txt\", \"r\")\n",
    "communication = raw_data.read()\n",
    "raw_data.close()"
   ]
  },
  {
   "cell_type": "code",
   "execution_count": 22,
   "id": "a3d1bcac-072c-4bb0-904a-86a7c5527894",
   "metadata": {},
   "outputs": [],
   "source": [
    "start_of_packet_marker = communication[0:4]"
   ]
  },
  {
   "cell_type": "code",
   "execution_count": 39,
   "id": "fcbe8aa0-9f63-48b7-911d-8734d9d7f8cf",
   "metadata": {},
   "outputs": [],
   "source": [
    "start_of_packet_marker = communication[0:4]\n",
    "communication_index = 0\n",
    "while len(set(start_of_packet_marker)) < 4:\n",
    "    start_of_packet_marker = communication[communication_index:communication_index+4]\n",
    "    communication_index += 1"
   ]
  },
  {
   "cell_type": "code",
   "execution_count": 42,
   "id": "6d815791-a625-4a01-b8f3-e151b799c212",
   "metadata": {},
   "outputs": [
    {
     "data": {
      "text/plain": [
       "'srtm'"
      ]
     },
     "execution_count": 42,
     "metadata": {},
     "output_type": "execute_result"
    }
   ],
   "source": [
    "start_of_packet_marker"
   ]
  },
  {
   "cell_type": "code",
   "execution_count": 44,
   "id": "3a9e4199-c5f6-4fb8-a7cb-cf4d76c53b7a",
   "metadata": {},
   "outputs": [
    {
     "data": {
      "text/plain": [
       "1802"
      ]
     },
     "execution_count": 44,
     "metadata": {},
     "output_type": "execute_result"
    }
   ],
   "source": [
    "communication.find(start_of_packet_marker) + 4"
   ]
  },
  {
   "cell_type": "code",
   "execution_count": 47,
   "id": "e2e7e093-b7ea-48fb-a3fc-f8dde13aafcc",
   "metadata": {},
   "outputs": [],
   "source": [
    "start_of_message_marker = communication[0:14]\n",
    "communication_index = 0\n",
    "while len(set(start_of_message_marker)) < 14:\n",
    "    start_of_message_marker = communication[communication_index:communication_index+14]\n",
    "    communication_index += 1"
   ]
  },
  {
   "cell_type": "code",
   "execution_count": 48,
   "id": "d9589b9c-4dcb-40f2-8f8d-313e1cdae42e",
   "metadata": {},
   "outputs": [
    {
     "data": {
      "text/plain": [
       "'dhlszqjmcbnwrp'"
      ]
     },
     "execution_count": 48,
     "metadata": {},
     "output_type": "execute_result"
    }
   ],
   "source": [
    "start_of_message_marker"
   ]
  },
  {
   "cell_type": "code",
   "execution_count": 49,
   "id": "8c741d06-f24e-4699-953f-34d5261386c0",
   "metadata": {},
   "outputs": [
    {
     "data": {
      "text/plain": [
       "3551"
      ]
     },
     "execution_count": 49,
     "metadata": {},
     "output_type": "execute_result"
    }
   ],
   "source": [
    "communication.find(start_of_message_marker) + 14"
   ]
  },
  {
   "cell_type": "code",
   "execution_count": null,
   "id": "5e29c1ac-5b09-450f-99aa-597b90be92c0",
   "metadata": {},
   "outputs": [],
   "source": []
  }
 ],
 "metadata": {
  "kernelspec": {
   "display_name": "Python 3 (ipykernel)",
   "language": "python",
   "name": "python3"
  },
  "language_info": {
   "codemirror_mode": {
    "name": "ipython",
    "version": 3
   },
   "file_extension": ".py",
   "mimetype": "text/x-python",
   "name": "python",
   "nbconvert_exporter": "python",
   "pygments_lexer": "ipython3",
   "version": "3.10.8"
  }
 },
 "nbformat": 4,
 "nbformat_minor": 5
}
