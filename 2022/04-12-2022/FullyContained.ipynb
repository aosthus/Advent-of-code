{
 "cells": [
  {
   "cell_type": "code",
   "execution_count": 27,
   "id": "d132eebd-d3a4-4744-86e8-833f3dad5e86",
   "metadata": {},
   "outputs": [],
   "source": [
    "raw_data = open(\"./data.txt\", \"r\")\n",
    "assigned_2_areas = raw_data.read().split('\\n')\n",
    "raw_data.close()"
   ]
  },
  {
   "cell_type": "code",
   "execution_count": 28,
   "id": "25fc6a9a-a947-45cf-ba57-cdc9d2bb692d",
   "metadata": {},
   "outputs": [],
   "source": [
    "assigned_area = []\n",
    "for pair in assigned_2_areas:\n",
    "    assigned_area.append(pair.split(','))"
   ]
  },
  {
   "cell_type": "code",
   "execution_count": 29,
   "id": "67e7680b-8d05-40bf-9022-9d0988673438",
   "metadata": {},
   "outputs": [],
   "source": [
    "elf_1 = []\n",
    "elf_2 = []\n",
    "for area in assigned_area:\n",
    "    elf_1.append(area[0])\n",
    "    elf_2.append(area[1])"
   ]
  },
  {
   "cell_type": "code",
   "execution_count": 34,
   "id": "36e816b3-4af3-4143-8bbf-b3fc8b2f81a6",
   "metadata": {},
   "outputs": [],
   "source": [
    "elf_1_ranges = []\n",
    "elf_2_ranges = []\n",
    "for area in elf_1:\n",
    "    elf_1_ranges.append(set(range(int(area.split('-')[0]), int(area.split('-')[1])+1)))\n",
    "for area in elf_2:\n",
    "    elf_2_ranges.append(set(range(int(area.split('-')[0]), int(area.split('-')[1])+1)))"
   ]
  },
  {
   "cell_type": "code",
   "execution_count": 36,
   "id": "2357047b-6d59-4d96-a500-502d7288b0ba",
   "metadata": {},
   "outputs": [
    {
     "data": {
      "text/plain": [
       "483"
      ]
     },
     "execution_count": 36,
     "metadata": {},
     "output_type": "execute_result"
    }
   ],
   "source": [
    "contained_areas = 0\n",
    "for pair, area in enumerate(elf_1_ranges):\n",
    "    if elf_1_ranges[pair].issubset(elf_2_ranges[pair]) or elf_2_ranges[pair].issubset(elf_1_ranges[pair]):\n",
    "        contained_areas += 1\n",
    "contained_areas"
   ]
  },
  {
   "cell_type": "code",
   "execution_count": 37,
   "id": "6e9045d9-a587-4c68-8d7d-3cfb52fbfe1e",
   "metadata": {},
   "outputs": [
    {
     "data": {
      "text/plain": [
       "874"
      ]
     },
     "execution_count": 37,
     "metadata": {},
     "output_type": "execute_result"
    }
   ],
   "source": [
    "overlap_areas = 0\n",
    "for pair, area in enumerate(elf_1_ranges):\n",
    "    if elf_1_ranges[pair].intersection(elf_2_ranges[pair]) or elf_2_ranges[pair].intersection(elf_1_ranges[pair]):\n",
    "        overlap_areas += 1\n",
    "overlap_areas"
   ]
  },
  {
   "cell_type": "code",
   "execution_count": null,
   "id": "e891c7bd-4e5f-420c-a56e-38afab6e69af",
   "metadata": {},
   "outputs": [],
   "source": []
  }
 ],
 "metadata": {
  "kernelspec": {
   "display_name": "Python 3 (ipykernel)",
   "language": "python",
   "name": "python3"
  },
  "language_info": {
   "codemirror_mode": {
    "name": "ipython",
    "version": 3
   },
   "file_extension": ".py",
   "mimetype": "text/x-python",
   "name": "python",
   "nbconvert_exporter": "python",
   "pygments_lexer": "ipython3",
   "version": "3.10.8"
  }
 },
 "nbformat": 4,
 "nbformat_minor": 5
}
