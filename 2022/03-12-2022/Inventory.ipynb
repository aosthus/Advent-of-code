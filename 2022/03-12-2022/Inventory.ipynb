{
 "cells": [
  {
   "cell_type": "code",
   "execution_count": 3,
   "id": "9da38c58-f09b-44d0-b671-3892dd3b075c",
   "metadata": {},
   "outputs": [],
   "source": [
    "raw_data = open(\"./data.txt\",\"r\")\n",
    "backpacks = raw_data.read().split('\\n')\n",
    "raw_data.close()"
   ]
  },
  {
   "cell_type": "code",
   "execution_count": 33,
   "id": "7c109aa0-16d3-4f52-9f7e-bebf4a8ed034",
   "metadata": {},
   "outputs": [],
   "source": [
    "priority = {\n",
    "    'a': 1,\n",
    "    'b': 2,\n",
    "    'c': 3,\n",
    "    'd': 4,\n",
    "    'e': 5,\n",
    "    'f': 6,\n",
    "    'g': 7,\n",
    "    'h': 8,\n",
    "    'i': 9,\n",
    "    'j': 10,\n",
    "    'k': 11,\n",
    "    'l': 12,\n",
    "    'm': 13,\n",
    "    'n': 14,\n",
    "    'o': 15,\n",
    "    'p': 16,\n",
    "    'q': 17,\n",
    "    'r': 18,\n",
    "    's': 19,\n",
    "    't': 20,\n",
    "    'u': 21,\n",
    "    'v': 22,\n",
    "    'w': 23,\n",
    "    'x': 24,\n",
    "    'y': 25,\n",
    "    'z': 26,\n",
    "}"
   ]
  },
  {
   "cell_type": "code",
   "execution_count": 37,
   "id": "42355fe7-dab4-4eb8-a549-2428febef60a",
   "metadata": {},
   "outputs": [],
   "source": [
    "compartment_a = []\n",
    "compartment_b = []\n",
    "for pack in backpacks:\n",
    "    compartment_a.append(set(pack[0:(int(len(pack)/2))]))\n",
    "    compartment_b.append(set(pack[(int(len(pack)/2)):]))"
   ]
  },
  {
   "cell_type": "code",
   "execution_count": 59,
   "id": "8224ba99-652f-43ba-81ac-0d245ef281cd",
   "metadata": {
    "tags": []
   },
   "outputs": [
    {
     "data": {
      "text/plain": [
       "8394"
      ]
     },
     "execution_count": 59,
     "metadata": {},
     "output_type": "execute_result"
    }
   ],
   "source": [
    "sum_of_priorities = 0\n",
    "for pack in range(0, len(compartment_a)):\n",
    "    same_item = list(compartment_a[pack].intersection(compartment_b[pack]))\n",
    "    if same_item[0].isupper():\n",
    "        sum_of_priorities += 26\n",
    "        same_item[0] = same_item[0].lower()\n",
    "    sum_of_priorities += priority[same_item[0]]\n",
    "sum_of_priorities"
   ]
  },
  {
   "cell_type": "code",
   "execution_count": 73,
   "id": "39f42d18-a43f-4eb5-a884-6b19b7599e0d",
   "metadata": {},
   "outputs": [],
   "source": [
    "elf_1 = []\n",
    "elf_2 = []\n",
    "elf_3 = []\n",
    "count = 0\n",
    "for elf in backpacks:\n",
    "    if count % 3 == 0:\n",
    "        elf_1.append(set(elf))\n",
    "    elif count % 3 == 1:\n",
    "        elf_2.append(set(elf))\n",
    "    elif count % 3 == 2:\n",
    "        elf_3.append(set(elf))\n",
    "    count += 1"
   ]
  },
  {
   "cell_type": "code",
   "execution_count": 74,
   "id": "b1c4d061-bce1-4d37-ae77-9952d44f1484",
   "metadata": {},
   "outputs": [
    {
     "data": {
      "text/plain": [
       "2413"
      ]
     },
     "execution_count": 74,
     "metadata": {},
     "output_type": "execute_result"
    }
   ],
   "source": [
    "sum_of_priorities = 0\n",
    "for elf in range(0, len(elf_1)):\n",
    "    same_item = list(elf_1[elf].intersection(elf_2[elf], elf_3[elf]))\n",
    "    if same_item[0].isupper():\n",
    "        sum_of_priorities += 26\n",
    "        same_item[0] = same_item[0].lower()\n",
    "    sum_of_priorities += priority[same_item[0]]\n",
    "sum_of_priorities"
   ]
  },
  {
   "cell_type": "code",
   "execution_count": null,
   "id": "183d881f-55f3-4fb9-8d07-d9f8c0450b45",
   "metadata": {},
   "outputs": [],
   "source": []
  }
 ],
 "metadata": {
  "kernelspec": {
   "display_name": "Python 3 (ipykernel)",
   "language": "python",
   "name": "python3"
  },
  "language_info": {
   "codemirror_mode": {
    "name": "ipython",
    "version": 3
   },
   "file_extension": ".py",
   "mimetype": "text/x-python",
   "name": "python",
   "nbconvert_exporter": "python",
   "pygments_lexer": "ipython3",
   "version": "3.10.8"
  }
 },
 "nbformat": 4,
 "nbformat_minor": 5
}
