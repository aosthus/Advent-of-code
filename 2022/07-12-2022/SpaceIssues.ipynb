{
 "cells": [
  {
   "cell_type": "code",
   "execution_count": 1,
   "id": "3492e789-859e-4bd9-9d75-4532a735ebb2",
   "metadata": {},
   "outputs": [],
   "source": [
    "raw_data = open(\"./data.txt\", \"r\")\n",
    "commands = raw_data.read().split('\\n')\n",
    "raw_data.close()"
   ]
  },
  {
   "cell_type": "code",
   "execution_count": 13,
   "id": "89026c1c-aa0e-42ab-9574-ae6b61fafd90",
   "metadata": {},
   "outputs": [
    {
     "name": "stdout",
     "output_type": "stream",
     "text": [
      "148\n"
     ]
    }
   ],
   "source": [
    "count = 0\n",
    "list_of_dirs = []\n",
    "for number, line in enumerate(commands):\n",
    "    if commands[number][0:3] == 'dir':\n",
    "        count += 1\n",
    "        list_of_dirs.append(commands[number][4:])\n",
    "print(len(set(list_of_dirs)))"
   ]
  },
  {
   "cell_type": "code",
   "execution_count": 22,
   "id": "575dad78-c644-4ea3-a50b-bfb8b289e359",
   "metadata": {
    "tags": []
   },
   "outputs": [],
   "source": [
    "set_of_dirs = set(list_of_dirs)"
   ]
  },
  {
   "cell_type": "code",
   "execution_count": 28,
   "id": "7a9fdb79-780d-495c-9810-8173a93171b6",
   "metadata": {
    "tags": []
   },
   "outputs": [],
   "source": [
    "current_line = commands[0]"
   ]
  },
  {
   "cell_type": "code",
   "execution_count": 29,
   "id": "99b1259c-9dc3-4526-a325-6325b5f05b52",
   "metadata": {},
   "outputs": [
    {
     "data": {
      "text/plain": [
       "'$ cd /'"
      ]
     },
     "execution_count": 29,
     "metadata": {},
     "output_type": "execute_result"
    }
   ],
   "source": [
    "current_line"
   ]
  },
  {
   "cell_type": "code",
   "execution_count": 35,
   "id": "b38e07b6-4ee5-438d-aea3-32b4b1495b49",
   "metadata": {},
   "outputs": [
    {
     "name": "stdout",
     "output_type": "stream",
     "text": [
      "227398\n"
     ]
    }
   ],
   "source": [
    "if commands[12][5:] in set_of_dirs:\n",
    "    if commands[12+1] == \"$ ls\":\n",
    "        while commands[12+1].startswith('$'):\n",
    "            \n",
    "        print(commands[12+2].split(' ')[0])\n",
    "else:\n",
    "    print(\"is not ok\")"
   ]
  },
  {
   "cell_type": "code",
   "execution_count": null,
   "id": "5be04721-ecee-4887-aa67-d046d22af57c",
   "metadata": {},
   "outputs": [],
   "source": []
  }
 ],
 "metadata": {
  "kernelspec": {
   "display_name": "Python 3 (ipykernel)",
   "language": "python",
   "name": "python3"
  },
  "language_info": {
   "codemirror_mode": {
    "name": "ipython",
    "version": 3
   },
   "file_extension": ".py",
   "mimetype": "text/x-python",
   "name": "python",
   "nbconvert_exporter": "python",
   "pygments_lexer": "ipython3",
   "version": "3.10.8"
  }
 },
 "nbformat": 4,
 "nbformat_minor": 5
}
