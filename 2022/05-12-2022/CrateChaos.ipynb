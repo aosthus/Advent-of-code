{
 "cells": [
  {
   "cell_type": "markdown",
   "id": "610efa8f-38d8-49af-a3bb-0651af6ec51a",
   "metadata": {},
   "source": [
    "# Task 1"
   ]
  },
  {
   "cell_type": "code",
   "execution_count": 1,
   "id": "e1fc5411-4e49-4968-b0ae-f817b1a0d7e1",
   "metadata": {},
   "outputs": [],
   "source": [
    "raw_data = open(\"./start.txt\", \"r\")\n",
    "crate_start = raw_data.read().split('\\n')\n",
    "raw_data.close()"
   ]
  },
  {
   "cell_type": "code",
   "execution_count": 2,
   "id": "74e0a08f-b8bf-44c5-914a-5b453254c37f",
   "metadata": {},
   "outputs": [
    {
     "data": {
      "text/plain": [
       "['    [P]                 [Q]     [T]',\n",
       " '[F] [N]             [P] [L]     [M]',\n",
       " '[H] [T] [H]         [M] [H]     [Z]',\n",
       " '[M] [C] [P]     [Q] [R] [C]     [J]',\n",
       " '[T] [J] [M] [F] [L] [G] [R]     [Q]',\n",
       " '[V] [G] [D] [V] [G] [D] [N] [W] [L]',\n",
       " '[L] [Q] [S] [B] [H] [B] [M] [L] [D]',\n",
       " '[D] [H] [R] [L] [N] [W] [G] [C] [R]',\n",
       " ' 1   2   3   4   5   6   7   8   9 ']"
      ]
     },
     "execution_count": 2,
     "metadata": {},
     "output_type": "execute_result"
    }
   ],
   "source": [
    "crate_start"
   ]
  },
  {
   "cell_type": "code",
   "execution_count": 3,
   "id": "6e404e4f-5e55-42c3-809d-86fa52bfaa02",
   "metadata": {
    "jupyter": {
     "source_hidden": true
    },
    "tags": []
   },
   "outputs": [],
   "source": [
    "stack_1 = [\n",
    "    'D',\n",
    "    'L',\n",
    "    'V',\n",
    "    'T',\n",
    "    'M',\n",
    "    'H',\n",
    "    'F',\n",
    "]"
   ]
  },
  {
   "cell_type": "code",
   "execution_count": 4,
   "id": "f874899a-0ba3-4b57-b251-a5b2ffe6ed10",
   "metadata": {
    "jupyter": {
     "source_hidden": true
    },
    "tags": []
   },
   "outputs": [],
   "source": [
    "stack_2 = [\n",
    "    'H',\n",
    "    'Q',\n",
    "    'G',\n",
    "    'J',\n",
    "    'C',\n",
    "    'T',\n",
    "    'N',\n",
    "    'P',\n",
    "]"
   ]
  },
  {
   "cell_type": "code",
   "execution_count": 5,
   "id": "bcdddef6-7f93-4c3f-afdf-c387e995e47e",
   "metadata": {
    "jupyter": {
     "source_hidden": true
    },
    "tags": []
   },
   "outputs": [],
   "source": [
    "stack_3 = [\n",
    "    'R',\n",
    "    'S',\n",
    "    'D',\n",
    "    'M',\n",
    "    'P',\n",
    "    'H',\n",
    "]"
   ]
  },
  {
   "cell_type": "code",
   "execution_count": 6,
   "id": "e33d6ba8-d458-48af-aeb9-398e51477d0b",
   "metadata": {
    "jupyter": {
     "source_hidden": true
    },
    "tags": []
   },
   "outputs": [],
   "source": [
    "stack_4 = [\n",
    "    'L',\n",
    "    'B',\n",
    "    'V',\n",
    "    'F',\n",
    "]"
   ]
  },
  {
   "cell_type": "code",
   "execution_count": 7,
   "id": "83656fdc-d2cf-4d2c-b59a-90b37d3be972",
   "metadata": {
    "jupyter": {
     "source_hidden": true
    },
    "tags": []
   },
   "outputs": [],
   "source": [
    "stack_5 = [\n",
    "    'N',\n",
    "    'H',\n",
    "    'G',\n",
    "    'L',\n",
    "    'Q',\n",
    "]"
   ]
  },
  {
   "cell_type": "code",
   "execution_count": 8,
   "id": "49b95e66-0aad-42b4-a2ae-2a5e4f2d4fbc",
   "metadata": {
    "jupyter": {
     "source_hidden": true
    },
    "tags": []
   },
   "outputs": [],
   "source": [
    "stack_6 = [\n",
    "    'W',\n",
    "    'B',\n",
    "    'D',\n",
    "    'G',\n",
    "    'R',\n",
    "    'M',\n",
    "    'P',\n",
    "]"
   ]
  },
  {
   "cell_type": "code",
   "execution_count": 9,
   "id": "ec2c9be7-cb14-46af-b4f6-3014c6036944",
   "metadata": {
    "jupyter": {
     "source_hidden": true
    },
    "tags": []
   },
   "outputs": [],
   "source": [
    "stack_7 = [\n",
    "    'G',\n",
    "    'M',\n",
    "    'N',\n",
    "    'R',\n",
    "    'C',\n",
    "    'H',\n",
    "    'L',\n",
    "    'Q',\n",
    "]"
   ]
  },
  {
   "cell_type": "code",
   "execution_count": 10,
   "id": "6a0c01ad-53c6-4dd6-a319-4a8d2bc763e9",
   "metadata": {
    "jupyter": {
     "source_hidden": true
    },
    "tags": []
   },
   "outputs": [],
   "source": [
    "stack_8 = [\n",
    "    'C',\n",
    "    'L',\n",
    "    'W',\n",
    "]"
   ]
  },
  {
   "cell_type": "code",
   "execution_count": 11,
   "id": "1713d92a-81c1-453d-a55a-e6cb0744995d",
   "metadata": {
    "jupyter": {
     "source_hidden": true
    },
    "tags": []
   },
   "outputs": [],
   "source": [
    "stack_9 = [\n",
    "    'R',\n",
    "    'D',\n",
    "    'L',\n",
    "    'Q',\n",
    "    'J',\n",
    "    'Z',\n",
    "    'M',\n",
    "    'T',\n",
    "]"
   ]
  },
  {
   "cell_type": "code",
   "execution_count": 12,
   "id": "462a2731-c055-4798-8640-e4188f55d00f",
   "metadata": {},
   "outputs": [],
   "source": [
    "list_of_stacks = [\n",
    "    stack_1,\n",
    "    stack_2,\n",
    "    stack_3,\n",
    "    stack_4,\n",
    "    stack_5,\n",
    "    stack_6,\n",
    "    stack_7,\n",
    "    stack_8,\n",
    "    stack_9,\n",
    "]"
   ]
  },
  {
   "cell_type": "code",
   "execution_count": 13,
   "id": "09caedc0-a243-4182-bf8e-12d332970026",
   "metadata": {},
   "outputs": [],
   "source": [
    "raw_data = open(\"./data.txt\", \"r\")\n",
    "instructions = raw_data.read().split('\\n')\n",
    "raw_data.close()"
   ]
  },
  {
   "cell_type": "code",
   "execution_count": 20,
   "id": "019dd307-59b0-4832-9a0a-4d15d6b48f2c",
   "metadata": {},
   "outputs": [],
   "source": [
    "amount_list = []\n",
    "from_list = []\n",
    "to_list = []\n",
    "for number, instruction in enumerate(instructions):\n",
    "    amount_list.append(int(instruction.split(' ')[1]))\n",
    "    from_list.append(int(instruction.split(' ')[3]))\n",
    "    to_list.append(int(instruction.split(' ')[5]))"
   ]
  },
  {
   "cell_type": "code",
   "execution_count": 33,
   "id": "5e3c2e22-ee86-4947-89aa-d134b5193cbb",
   "metadata": {},
   "outputs": [],
   "source": [
    "for number, line in enumerate(instructions):\n",
    "    for i in range(amount_list[number]):\n",
    "        list_of_stacks[to_list[number]-1].append(list_of_stacks[from_list[number]-1].pop())"
   ]
  },
  {
   "cell_type": "code",
   "execution_count": 40,
   "id": "6565b85f-f71d-49b1-80a3-fdb0460df220",
   "metadata": {},
   "outputs": [
    {
     "data": {
      "text/plain": [
       "'HNSNMTLHQ'"
      ]
     },
     "execution_count": 40,
     "metadata": {},
     "output_type": "execute_result"
    }
   ],
   "source": [
    "solution_1 = str()\n",
    "for i in range(len(list_of_stacks)):\n",
    "    solution_1 += list_of_stacks[i][-1]\n",
    "solution_1"
   ]
  },
  {
   "cell_type": "markdown",
   "id": "b5d50265-b2bf-4050-be97-bb2198e13e51",
   "metadata": {},
   "source": [
    "# Task 2"
   ]
  },
  {
   "cell_type": "code",
   "execution_count": 41,
   "id": "a01ab033-3425-46ce-aea5-5ae83f851f85",
   "metadata": {},
   "outputs": [],
   "source": [
    "raw_data = open(\"./start.txt\", \"r\")\n",
    "crate_start = raw_data.read().split('\\n')\n",
    "raw_data.close()"
   ]
  },
  {
   "cell_type": "code",
   "execution_count": 42,
   "id": "96bf9046-a94d-44eb-8f8e-f229e61e2869",
   "metadata": {},
   "outputs": [
    {
     "data": {
      "text/plain": [
       "['    [P]                 [Q]     [T]',\n",
       " '[F] [N]             [P] [L]     [M]',\n",
       " '[H] [T] [H]         [M] [H]     [Z]',\n",
       " '[M] [C] [P]     [Q] [R] [C]     [J]',\n",
       " '[T] [J] [M] [F] [L] [G] [R]     [Q]',\n",
       " '[V] [G] [D] [V] [G] [D] [N] [W] [L]',\n",
       " '[L] [Q] [S] [B] [H] [B] [M] [L] [D]',\n",
       " '[D] [H] [R] [L] [N] [W] [G] [C] [R]',\n",
       " ' 1   2   3   4   5   6   7   8   9 ']"
      ]
     },
     "execution_count": 42,
     "metadata": {},
     "output_type": "execute_result"
    }
   ],
   "source": [
    "crate_start"
   ]
  },
  {
   "cell_type": "code",
   "execution_count": 43,
   "id": "beba301e-2aae-41af-aaf7-3e41efa914b2",
   "metadata": {
    "jupyter": {
     "source_hidden": true
    },
    "tags": []
   },
   "outputs": [],
   "source": [
    "stack_1 = [\n",
    "    'D',\n",
    "    'L',\n",
    "    'V',\n",
    "    'T',\n",
    "    'M',\n",
    "    'H',\n",
    "    'F',\n",
    "]"
   ]
  },
  {
   "cell_type": "code",
   "execution_count": 44,
   "id": "72ebcf5d-b7c4-4a22-bb7d-a04928d63687",
   "metadata": {
    "jupyter": {
     "source_hidden": true
    },
    "tags": []
   },
   "outputs": [],
   "source": [
    "stack_2 = [\n",
    "    'H',\n",
    "    'Q',\n",
    "    'G',\n",
    "    'J',\n",
    "    'C',\n",
    "    'T',\n",
    "    'N',\n",
    "    'P',\n",
    "]"
   ]
  },
  {
   "cell_type": "code",
   "execution_count": 45,
   "id": "a9b9641e-fd9f-4792-bd94-ae0a939dd3e9",
   "metadata": {
    "jupyter": {
     "source_hidden": true
    },
    "tags": []
   },
   "outputs": [],
   "source": [
    "stack_3 = [\n",
    "    'R',\n",
    "    'S',\n",
    "    'D',\n",
    "    'M',\n",
    "    'P',\n",
    "    'H',\n",
    "]"
   ]
  },
  {
   "cell_type": "code",
   "execution_count": 46,
   "id": "8e43f491-b3b9-4d75-971f-63573f87a098",
   "metadata": {
    "jupyter": {
     "source_hidden": true
    },
    "tags": []
   },
   "outputs": [],
   "source": [
    "stack_4 = [\n",
    "    'L',\n",
    "    'B',\n",
    "    'V',\n",
    "    'F',\n",
    "]"
   ]
  },
  {
   "cell_type": "code",
   "execution_count": 47,
   "id": "8a9b93ae-d222-4f34-b4fb-91a3f474bab2",
   "metadata": {
    "jupyter": {
     "source_hidden": true
    },
    "tags": []
   },
   "outputs": [],
   "source": [
    "stack_5 = [\n",
    "    'N',\n",
    "    'H',\n",
    "    'G',\n",
    "    'L',\n",
    "    'Q',\n",
    "]"
   ]
  },
  {
   "cell_type": "code",
   "execution_count": 48,
   "id": "8a5e8f19-7499-4acc-a24e-0d38f92864f5",
   "metadata": {
    "jupyter": {
     "source_hidden": true
    },
    "tags": []
   },
   "outputs": [],
   "source": [
    "stack_6 = [\n",
    "    'W',\n",
    "    'B',\n",
    "    'D',\n",
    "    'G',\n",
    "    'R',\n",
    "    'M',\n",
    "    'P',\n",
    "]"
   ]
  },
  {
   "cell_type": "code",
   "execution_count": 49,
   "id": "aa6c589e-ac28-4e27-baf4-e6b72b9c929c",
   "metadata": {
    "jupyter": {
     "source_hidden": true
    },
    "tags": []
   },
   "outputs": [],
   "source": [
    "stack_7 = [\n",
    "    'G',\n",
    "    'M',\n",
    "    'N',\n",
    "    'R',\n",
    "    'C',\n",
    "    'H',\n",
    "    'L',\n",
    "    'Q',\n",
    "]"
   ]
  },
  {
   "cell_type": "code",
   "execution_count": 50,
   "id": "cd7ae679-1485-4098-af3c-f115120e9b54",
   "metadata": {
    "jupyter": {
     "source_hidden": true
    },
    "tags": []
   },
   "outputs": [],
   "source": [
    "stack_8 = [\n",
    "    'C',\n",
    "    'L',\n",
    "    'W',\n",
    "]"
   ]
  },
  {
   "cell_type": "code",
   "execution_count": 52,
   "id": "3d2e3ab6-6f80-4a51-853c-2941d48a16e6",
   "metadata": {
    "jupyter": {
     "source_hidden": true
    },
    "tags": []
   },
   "outputs": [],
   "source": [
    "stack_9 = [\n",
    "    'R',\n",
    "    'D',\n",
    "    'L',\n",
    "    'Q',\n",
    "    'J',\n",
    "    'Z',\n",
    "    'M',\n",
    "    'T',\n",
    "]"
   ]
  },
  {
   "cell_type": "code",
   "execution_count": 53,
   "id": "d06cc8af-9393-4b42-8cce-ad43aab70926",
   "metadata": {},
   "outputs": [],
   "source": [
    "list_of_stacks = [\n",
    "    stack_1,\n",
    "    stack_2,\n",
    "    stack_3,\n",
    "    stack_4,\n",
    "    stack_5,\n",
    "    stack_6,\n",
    "    stack_7,\n",
    "    stack_8,\n",
    "    stack_9,\n",
    "]"
   ]
  },
  {
   "cell_type": "code",
   "execution_count": 54,
   "id": "bf0cb23c-3ef6-4aa1-9505-86f01bd8337a",
   "metadata": {},
   "outputs": [],
   "source": [
    "raw_data = open(\"./data.txt\", \"r\")\n",
    "instructions = raw_data.read().split('\\n')\n",
    "raw_data.close()"
   ]
  },
  {
   "cell_type": "code",
   "execution_count": 55,
   "id": "7158d6b5-f543-4297-b2a3-9d396062f30e",
   "metadata": {},
   "outputs": [],
   "source": [
    "amount_list = []\n",
    "from_list = []\n",
    "to_list = []\n",
    "for number, instruction in enumerate(instructions):\n",
    "    amount_list.append(int(instruction.split(' ')[1]))\n",
    "    from_list.append(int(instruction.split(' ')[3]))\n",
    "    to_list.append(int(instruction.split(' ')[5]))"
   ]
  },
  {
   "cell_type": "code",
   "execution_count": 56,
   "id": "137fe87d-89aa-4c81-a576-92722ff8fde2",
   "metadata": {},
   "outputs": [],
   "source": [
    "for number, line in enumerate(instructions):\n",
    "    multiple_crates = []\n",
    "    for i in range(amount_list[number]):\n",
    "        multiple_crates.append(list_of_stacks[from_list[number]-1].pop())\n",
    "    for i in range(len(multiple_crates)):\n",
    "        list_of_stacks[to_list[number]-1].append(multiple_crates.pop())"
   ]
  },
  {
   "cell_type": "code",
   "execution_count": 57,
   "id": "70682ab6-0e45-4acc-984c-fe38a66fb5c0",
   "metadata": {},
   "outputs": [
    {
     "data": {
      "text/plain": [
       "'RNLFDJMCT'"
      ]
     },
     "execution_count": 57,
     "metadata": {},
     "output_type": "execute_result"
    }
   ],
   "source": [
    "solution_2 = str()\n",
    "for i in range(len(list_of_stacks)):\n",
    "    solution_2 += list_of_stacks[i][-1]\n",
    "solution_2"
   ]
  }
 ],
 "metadata": {
  "kernelspec": {
   "display_name": "Python 3 (ipykernel)",
   "language": "python",
   "name": "python3"
  },
  "language_info": {
   "codemirror_mode": {
    "name": "ipython",
    "version": 3
   },
   "file_extension": ".py",
   "mimetype": "text/x-python",
   "name": "python",
   "nbconvert_exporter": "python",
   "pygments_lexer": "ipython3",
   "version": "3.10.8"
  }
 },
 "nbformat": 4,
 "nbformat_minor": 5
}
