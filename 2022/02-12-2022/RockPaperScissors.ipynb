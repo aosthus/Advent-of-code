{
 "cells": [
  {
   "cell_type": "code",
   "execution_count": 1,
   "id": "d2af1915-c663-425b-b1e1-64fb6470907f",
   "metadata": {},
   "outputs": [],
   "source": [
    "raw_data = open(\"./data.txt\",\"r\")\n",
    "rounds = raw_data.read().split('\\n')\n",
    "raw_data.close()"
   ]
  },
  {
   "cell_type": "code",
   "execution_count": 2,
   "id": "6780de47-7812-46fd-ac6c-8b64f18d3a93",
   "metadata": {},
   "outputs": [],
   "source": [
    "rps = {'X' : 'A',\n",
    "       'Y' : 'B',\n",
    "       'Z' : 'C'\n",
    "      }\n",
    "\n",
    "rps_points = {'A' : 1,\n",
    "              'B' : 2,\n",
    "              'C' : 3\n",
    "             }\n",
    "\n"
   ]
  },
  {
   "cell_type": "code",
   "execution_count": 3,
   "id": "3e626974-7ce5-498f-9492-9d351c4d0399",
   "metadata": {},
   "outputs": [
    {
     "data": {
      "text/plain": [
       "10404"
      ]
     },
     "execution_count": 3,
     "metadata": {},
     "output_type": "execute_result"
    }
   ],
   "source": [
    "points = 0\n",
    "\n",
    "for game in range(len(rounds)):\n",
    "    if rounds[game][-1] in rps.keys():\n",
    "        rounds[game] = rounds[game].replace(rounds[game][-1], rps[rounds[game][-1]])\n",
    "    if rounds[game][0] == rounds[game][-1]:\n",
    "        points += 3\n",
    "        points += rps_points[rounds[game][-1]]\n",
    "    elif rounds[game][0] == 'A':\n",
    "        if rounds[game][-1] == 'B':\n",
    "            points += 6\n",
    "            points += rps_points[rounds[game][-1]]\n",
    "        else:\n",
    "            points += 0\n",
    "            points += rps_points[rounds[game][-1]]\n",
    "    elif rounds[game][0] == 'B':\n",
    "        if rounds[game][-1] == 'C':\n",
    "            points += 6\n",
    "            points += rps_points[rounds[game][-1]]\n",
    "        else:\n",
    "            points += 0\n",
    "            points += rps_points[rounds[game][-1]]\n",
    "    elif rounds[game][0] == 'C':\n",
    "        if rounds[game][-1] == 'A':\n",
    "            points += 6\n",
    "            points += rps_points[rounds[game][-1]]\n",
    "        else:\n",
    "            points += 0\n",
    "            points += rps_points[rounds[game][-1]]\n",
    "points"
   ]
  },
  {
   "cell_type": "code",
   "execution_count": null,
   "id": "c550bbb8-0feb-46c2-aabb-7b51237d0c1e",
   "metadata": {},
   "outputs": [],
   "source": [
    "rps_gamepoints = {'X' : 0,\n",
    "                  'Y' : 3,\n",
    "                  'Z' : 6\n",
    "                 }"
   ]
  },
  {
   "cell_type": "code",
   "execution_count": null,
   "id": "98282196-d1ce-4c9d-805e-5d3729c34355",
   "metadata": {},
   "outputs": [],
   "source": [
    "raw_data = open(\"./data.txt\",\"r\")\n",
    "rounds = raw_data.read().split('\\n')\n",
    "raw_data.close()"
   ]
  },
  {
   "cell_type": "code",
   "execution_count": null,
   "id": "7ab74218-0c78-49b4-95e0-8384b3c4858e",
   "metadata": {},
   "outputs": [],
   "source": [
    "points = 0\n",
    "\n",
    "for game in range(len(rounds)):\n",
    "    for outcome in rps_gamepoints.keys():\n",
    "        points += rps_gamepoints[outcome]\n",
    "        if outcome == 'X':\n",
    "            if rounds[game][0] == 'A':\n",
    "                points += rps_points['C']\n",
    "            elif rounds[game][0] == 'B':\n",
    "                points += rps_points['B']\n",
    "            else:\n",
    "                points += rps_points['A']\n",
    "        elif outcome == 'Y':\n",
    "            if rounds[game][0] == 'A':\n",
    "                points += rps_points['A']\n",
    "            elif rounds[game][0] == 'B':\n",
    "                points += rps_points['B']\n",
    "            else:\n",
    "                points += rps_points['C']\n",
    "        else:\n",
    "            if rounds[game][0] == 'A':\n",
    "                points += rps_points['B']\n",
    "            elif rounds[game][0] == 'B':\n",
    "                points += rps_points['C']\n",
    "            else:\n",
    "                points += rps_points['A']"
   ]
  },
  {
   "cell_type": "code",
   "execution_count": null,
   "id": "cb9802d3-b24d-452d-b971-d79f23f8148e",
   "metadata": {},
   "outputs": [],
   "source": []
  },
  {
   "cell_type": "code",
   "execution_count": null,
   "id": "a7639bd9-99dc-45e7-9a6d-a0202a646f12",
   "metadata": {},
   "outputs": [],
   "source": []
  },
  {
   "cell_type": "code",
   "execution_count": null,
   "id": "4a770711-3fc9-4229-a39d-b416fe65f18f",
   "metadata": {},
   "outputs": [],
   "source": []
  }
 ],
 "metadata": {
  "kernelspec": {
   "display_name": "Python 3 (ipykernel)",
   "language": "python",
   "name": "python3"
  },
  "language_info": {
   "codemirror_mode": {
    "name": "ipython",
    "version": 3
   },
   "file_extension": ".py",
   "mimetype": "text/x-python",
   "name": "python",
   "nbconvert_exporter": "python",
   "pygments_lexer": "ipython3",
   "version": "3.10.6"
  }
 },
 "nbformat": 4,
 "nbformat_minor": 5
}
